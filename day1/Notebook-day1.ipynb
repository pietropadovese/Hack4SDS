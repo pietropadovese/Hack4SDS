{
  "cells": [
    {
      "cell_type": "markdown",
      "metadata": {
        "id": "LEV_qs5Njr-w"
      },
      "source": [
        "# Loading Libraries"
      ]
    },
    {
      "cell_type": "code",
      "execution_count": 9,
      "metadata": {
        "colab": {
          "base_uri": "https://localhost:8080/"
        },
        "id": "NCdU5LENboiw",
        "outputId": "6f6145e7-fab7-4a75-fec6-73c8c381183f"
      },
      "outputs": [],
      "source": [
        "import pandas as pd\n",
        "import numpy as np\n",
        "import os\n",
        "from sklearn.pipeline import Pipeline\n",
        "from sklearn.compose import ColumnTransformer\n",
        "from category_encoders.target_encoder import TargetEncoder\n",
        "from sklearn.preprocessing import OrdinalEncoder\n",
        "from sklearn.preprocessing import OneHotEncoder\n",
        "from sklearn.preprocessing import StandardScaler\n",
        "from sklearn.model_selection import train_test_split\n",
        "from sklearn.ensemble import GradientBoostingClassifier\n",
        "from sklearn.metrics import f1_score, confusion_matrix, accuracy_score\n",
        "import xgboost as xgb\n",
        "from sklearn.model_selection import train_test_split, GridSearchCV\n",
        "from sklearn.pipeline import Pipeline\n",
        "from sklearn.preprocessing import StandardScaler\n",
        "from sklearn.decomposition import PCA\n",
        "import string\n"
      ]
    },
    {
      "cell_type": "markdown",
      "metadata": {
        "id": "qwDYRVnijvFj"
      },
      "source": [
        "# Loading the data"
      ]
    },
    {
      "cell_type": "code",
      "execution_count": 10,
      "metadata": {
        "id": "3Dgyl7oncHzH"
      },
      "outputs": [],
      "source": [
        "train = pd.read_csv(\"dataset/train_set.csv\", sep=\";\", decimal=',')\n",
        "test = pd.read_csv(\"dataset/test_set.csv\", sep=\";\", decimal=',')"
      ]
    },
    {
      "cell_type": "markdown",
      "metadata": {
        "id": "bYvZWrnmjyEI"
      },
      "source": [
        "# Feature Engineering"
      ]
    },
    {
      "cell_type": "markdown",
      "metadata": {
        "id": "YP8SZtShmerA"
      },
      "source": [
        "### Datetime"
      ]
    },
    {
      "cell_type": "code",
      "execution_count": 11,
      "metadata": {
        "id": "8NFTByrPl3Q_"
      },
      "outputs": [],
      "source": [
        "train[\"decision_date\"] = pd.to_datetime(train[\"decision_date\"])\n",
        "train[\"year\"] = train[\"decision_date\"].dt.year\n",
        "train[\"month\"] = train[\"decision_date\"].dt.month\n",
        "train[\"day\"] = train[\"decision_date\"].dt.day\n",
        "\n",
        "test[\"decision_date\"] = pd.to_datetime(test[\"decision_date\"])\n",
        "test[\"year\"] = test[\"decision_date\"].dt.year\n",
        "test[\"month\"] = test[\"decision_date\"].dt.month\n",
        "test[\"day\"] = test[\"decision_date\"].dt.day"
      ]
    },
    {
      "cell_type": "markdown",
      "metadata": {
        "id": "yF-rpY1Lmgr1"
      },
      "source": [
        "### Cyclical Encoding"
      ]
    },
    {
      "cell_type": "code",
      "execution_count": 12,
      "metadata": {
        "id": "nUU1SzHnlV4f"
      },
      "outputs": [],
      "source": [
        "train[\"month_sin\"] = np.sin(2 * np.pi * train[\"month\"]/31.0)\n",
        "train[\"month_cos\"] = np.cos(2 * np.pi * train[\"month\"]/31.0)\n",
        "test[\"month_sin\"] = np.sin(2 * np.pi * test[\"month\"]/31.0)\n",
        "test[\"month_cos\"] = np.cos(2 * np.pi * test[\"month\"]/31.0)\n",
        "train[\"day_sin\"] = np.sin(2 * np.pi * train[\"day\"]/31.0)\n",
        "train[\"day_cos\"] = np.cos(2 * np.pi * train[\"day\"]/31.0)\n",
        "test[\"day_sin\"] = np.sin(2 * np.pi * test[\"day\"]/31.0)\n",
        "test[\"day_cos\"] = np.cos(2 * np.pi * test[\"day\"]/31.0)"
      ]
    },
    {
      "cell_type": "markdown",
      "metadata": {
        "id": "JVFHQmvsIDjc"
      },
      "source": [
        "### Company Occurences"
      ]
    },
    {
      "cell_type": "code",
      "execution_count": 13,
      "metadata": {
        "id": "OGjRH6oNIDCv"
      },
      "outputs": [],
      "source": [
        "rep_id = train.groupby(\"company_ID\")[\"application_ID\"].nunique()\n",
        "train[\"company\"] = train[\"company_ID\"].map(rep_id)\n",
        "rep_id_test = test.groupby(\"company_ID\")[\"application_ID\"].nunique()\n",
        "test[\"company\"] = test[\"company_ID\"].map(rep_id_test)"
      ]
    },
    {
      "cell_type": "markdown",
      "metadata": {
        "id": "5WASLryiJSVv"
      },
      "source": [
        "### Late Payment Score"
      ]
    },
    {
      "cell_type": "code",
      "execution_count": 21,
      "metadata": {
        "id": "qCXOqUHhJUL_"
      },
      "outputs": [],
      "source": [
        "train[\"late_payment_score\"] = train[\"late_payment_score\"].fillna(0)\n",
        "test[\"late_payment_score\"] = test[\"late_payment_score\"].fillna(0)"
      ]
    },
    {
      "cell_type": "markdown",
      "metadata": {
        "id": "7CEjwSthPNLw"
      },
      "source": [
        "### juridical_form"
      ]
    },
    {
      "cell_type": "code",
      "execution_count": 14,
      "metadata": {
        "colab": {
          "base_uri": "https://localhost:8080/"
        },
        "id": "SNHaQim0PQp-",
        "outputId": "09415885-62e1-4c05-bc4a-c70a8fbc620a"
      },
      "outputs": [
        {
          "name": "stderr",
          "output_type": "stream",
          "text": [
            "C:\\Users\\tifos\\AppData\\Local\\Temp\\ipykernel_27020\\1605603862.py:1: SettingWithCopyWarning: \n",
            "A value is trying to be set on a copy of a slice from a DataFrame\n",
            "\n",
            "See the caveats in the documentation: https://pandas.pydata.org/pandas-docs/stable/user_guide/indexing.html#returning-a-view-versus-a-copy\n",
            "  train[\"juridical_form\"].loc[train[\"juridical_form\"] == \"PS\"] = np.NaN\n"
          ]
        }
      ],
      "source": [
        "train[\"juridical_form\"].loc[train[\"juridical_form\"] == \"PS\"] = np.NaN"
      ]
    },
    {
      "cell_type": "markdown",
      "metadata": {},
      "source": [
        "## Score_ver03"
      ]
    },
    {
      "cell_type": "code",
      "execution_count": 15,
      "metadata": {},
      "outputs": [],
      "source": [
        "dic = {letter : (26 -inx) for inx, letter in enumerate(list(string.ascii_uppercase))}\n",
        "dic['MISSING'] = None\n",
        "train['external_score_ver03'] = train['external_score_ver03'].map(dic)\n",
        "test['external_score_ver03'] = test['external_score_ver03'].map(dic)"
      ]
    },
    {
      "cell_type": "markdown",
      "metadata": {
        "id": "7n2GoRA_n1fU"
      },
      "source": [
        "# Preprocessing"
      ]
    },
    {
      "cell_type": "code",
      "execution_count": 16,
      "metadata": {},
      "outputs": [],
      "source": [
        "train['ver_01_squared'] = train['external_score_ver01']*train['external_score_ver01']\n",
        "train['ver_02_squared'] = train['external_score_ver02']*train['external_score_ver02']\n",
        "test['ver_01_squared'] = test['external_score_ver01']*test['external_score_ver01']\n",
        "test['ver_02_squared'] = test['external_score_ver02']*test['external_score_ver02']\n",
        "train['ver_avg'] = train['external_score_ver01']*train['external_score_ver02']\n",
        "test['ver_avg'] = test['external_score_ver01']*test['external_score_ver02']"
      ]
    },
    {
      "cell_type": "code",
      "execution_count": 22,
      "metadata": {
        "id": "D1fJ09E8Impf"
      },
      "outputs": [],
      "source": [
        "cols_target = [\"province\", \"juridical_form\", \"industry_sector\", \"region\", \"geo_area\", ]\n",
        "cols_ordinal = [\"year\", \"last_statement_age\", \"external_score_ver03\"]\n",
        "cols_rest = [\"month_sin\", \"month_cos\", \"day_sin\", \"day_cos\", \"cr_available\"]\n",
        "cols_standard = [\"company\", \"external_score_ver01\", \"age\", \"external_score_ver02\", \"late_payment_score\", \"external_score_adverse\",\n",
        "                 \"external_score_moderate\", \n",
        "                 \"gross_margin_ratio\", \"core_income_ratio\", \"cash_asset_ratio\",\n",
        "                 \"consolidated_liabilities_ratio\", \"tangible_assets_ratio\", \"revenues\", 'ver_01_squared', 'ver_02_squared']\n",
        "cols_pca = ['overrun_freq_a_revoca_autoliquidanti',\n",
        "       'avg_tension_a_revoca_autoliquidanti',\n",
        "       'std_tension_a_revoca_autoliquidanti',\n",
        "       'max_tension_a_revoca_autoliquidanti',\n",
        "       'last_tension_a_revoca_autoliquidanti',\n",
        "       'avg_rel_used_a_revoca_autoliquidanti',\n",
        "       'std_rel_used_a_revoca_autoliquidanti',\n",
        "       'max_rel_used_a_revoca_autoliquidanti',\n",
        "       'last_rel_used_a_revoca_autoliquidanti', 'overrun_freq_a_scadenza',\n",
        "       'avg_rel_used_a_scadenza', 'std_rel_used_a_scadenza',\n",
        "       'max_rel_used_a_scadenza', 'last_rel_used_a_scadenza',\n",
        "       'avg_count_enti_affidanti', 'std_count_enti_affidanti',\n",
        "       'max_count_enti_affidanti', 'last_count_enti_affidanti',\n",
        "       'avg_count_numero_prima_info', 'std_count_numero_prima_info',\n",
        "       'max_count_numero_prima_info', 'last_count_numero_prima_info']\n",
        "col_list = cols_target + cols_ordinal + cols_rest + cols_standard + cols_pca\n",
        "\n",
        "X = np.array(train[col_list])\n",
        "y = np.array(train[\"target\"])"
      ]
    },
    {
      "cell_type": "code",
      "execution_count": 23,
      "metadata": {
        "id": "TDftajBk6gGp"
      },
      "outputs": [],
      "source": [
        "X_train, X_test, y_train, y_test = train_test_split(X, y, test_size=0.33, random_state=42)"
      ]
    },
    {
      "cell_type": "code",
      "execution_count": 24,
      "metadata": {
        "id": "yqHtVLix2E_W"
      },
      "outputs": [],
      "source": [
        "ct = ColumnTransformer(transformers=[(\"target_encoder\", OneHotEncoder(handle_unknown='ignore'), [0, 1, 2, 3, 4]),\n",
        "                                     (\"ordinal_encoder\", OrdinalEncoder(handle_unknown=\"use_encoded_value\", unknown_value=-1), [5,6,7]),\n",
        "                                     (\"standard_scaler\", StandardScaler(), [13,14, 15, 16, 17, 18, 19, 20, 21, 22, 23, 24, 25, 26, 27,]),\n",
        "                                     ('pca', PCA(), [28, 29, 30, 31, 32, 33, 34, 35, 36, 37, 38, 39, 40, 41, 42, 43, 44, 45, 46, 47, 48, 49])],\n",
        "                       remainder=\"passthrough\")\n",
        "\n",
        "model = xgb.XGBClassifier(objective=\"binary:logistic\",\n",
        "                          scale_pos_weight = 10,\n",
        "                          max_depth = 24,\n",
        "                          n_estimators = 180,\n",
        "                          learning_rate = 0.1,\n",
        "                          reg_lambda = 6,\n",
        "                          base_score = 0.2,\n",
        "                          alpha = 1,\n",
        ")\n",
        "\n",
        "pipeline = Pipeline(steps= [(\"column_transformer\", ct),\n",
        "                            (\"xgb\", model)])"
      ]
    },
    {
      "cell_type": "code",
      "execution_count": 25,
      "metadata": {},
      "outputs": [
        {
          "data": {
            "text/plain": [
              "0.5871333497658369"
            ]
          },
          "execution_count": 25,
          "metadata": {},
          "output_type": "execute_result"
        }
      ],
      "source": [
        "pipeline.fit(X_train, y_train)\n",
        "f1_score(pipeline.predict(X_test), y_test)"
      ]
    },
    {
      "cell_type": "code",
      "execution_count": null,
      "metadata": {
        "id": "QxC0beizkCxz"
      },
      "outputs": [],
      "source": [
        "# Reference for how we tune hyperparamters\n",
        "\n",
        "#param_grid = {\n",
        "    #'xgb__scale_pos_weight' : [8,10,12],\n",
        "    #'xgb__max_depth' : [8, 12, 14],\n",
        "    #'xgb__n_estimators':[140, 180, 220],\n",
        "    #'xgb__lambda' : [2,4,6],\n",
        "    #'xgb__learning_rate' : [0.1, 0.05, 0.01],\n",
        "    #'xgb__min_child_weight' : [1, 5]\n",
        "#}\n",
        "\n",
        "#grid = GridSearchCV(pipeline, param_grid, cv=5, n_jobs=-1, scoring='accuracy', verbose=10)\n",
        "#grid.fit(X_train, y_train)\n"
      ]
    },
    {
      "cell_type": "markdown",
      "metadata": {
        "id": "c2U4kKT-vd94"
      },
      "source": [
        "# Final predictions"
      ]
    },
    {
      "cell_type": "code",
      "execution_count": 549,
      "metadata": {
        "id": "07SE-zBJ8QJj"
      },
      "outputs": [],
      "source": [
        "pipeline.fit(X, y)\n",
        "final_preds = pipeline.predict(np.array(test[col_list]))\n",
        "final_preds = pd.DataFrame(final_preds)\n",
        "final_preds.to_csv(\"predictions.csv\", index=False, header=[\"label\"])"
      ]
    },
    {
      "cell_type": "code",
      "execution_count": null,
      "metadata": {},
      "outputs": [],
      "source": []
    }
  ],
  "metadata": {
    "colab": {
      "machine_shape": "hm",
      "provenance": []
    },
    "kernelspec": {
      "display_name": "Python 3",
      "name": "python3"
    },
    "language_info": {
      "codemirror_mode": {
        "name": "ipython",
        "version": 3
      },
      "file_extension": ".py",
      "mimetype": "text/x-python",
      "name": "python",
      "nbconvert_exporter": "python",
      "pygments_lexer": "ipython3",
      "version": "3.11.2"
    }
  },
  "nbformat": 4,
  "nbformat_minor": 0
}
